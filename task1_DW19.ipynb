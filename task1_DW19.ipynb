{
 "cells": [
  {
   "cell_type": "code",
   "execution_count": 5,
   "id": "9b72317a",
   "metadata": {},
   "outputs": [
    {
     "name": "stdout",
     "output_type": "stream",
     "text": [
      "choose:  a)Sign Up     b)login     c) Forgot Password d) Quitc\n",
      "Enter your usernamedivya\n",
      "username is wrong or does not exist\n"
     ]
    },
    {
     "ename": "UnboundLocalError",
     "evalue": "local variable 'ind' referenced before assignment",
     "output_type": "error",
     "traceback": [
      "\u001b[1;31m---------------------------------------------------------------------------\u001b[0m",
      "\u001b[1;31mUnboundLocalError\u001b[0m                         Traceback (most recent call last)",
      "\u001b[1;32m~\\AppData\\Local\\Temp/ipykernel_7844/669313919.py\u001b[0m in \u001b[0;36m<module>\u001b[1;34m\u001b[0m\n\u001b[0;32m     69\u001b[0m         \u001b[0mlogin\u001b[0m\u001b[1;33m(\u001b[0m\u001b[1;33m)\u001b[0m\u001b[1;33m\u001b[0m\u001b[1;33m\u001b[0m\u001b[0m\n\u001b[0;32m     70\u001b[0m     \u001b[1;32mif\u001b[0m \u001b[0maccount_ans\u001b[0m \u001b[1;33m==\u001b[0m\u001b[1;34m\"c\"\u001b[0m\u001b[1;33m:\u001b[0m\u001b[1;33m\u001b[0m\u001b[1;33m\u001b[0m\u001b[0m\n\u001b[1;32m---> 71\u001b[1;33m         \u001b[0mforgot\u001b[0m\u001b[1;33m(\u001b[0m\u001b[1;33m)\u001b[0m\u001b[1;33m\u001b[0m\u001b[1;33m\u001b[0m\u001b[0m\n\u001b[0m\u001b[0;32m     72\u001b[0m     \u001b[1;32mif\u001b[0m \u001b[0maccount_ans\u001b[0m \u001b[1;33m==\u001b[0m \u001b[1;34m\"d\"\u001b[0m\u001b[1;33m:\u001b[0m\u001b[1;33m\u001b[0m\u001b[1;33m\u001b[0m\u001b[0m\n\u001b[0;32m     73\u001b[0m         \u001b[1;32mbreak\u001b[0m\u001b[1;33m\u001b[0m\u001b[1;33m\u001b[0m\u001b[0m\n",
      "\u001b[1;32m~\\AppData\\Local\\Temp/ipykernel_7844/669313919.py\u001b[0m in \u001b[0;36mforgot\u001b[1;34m()\u001b[0m\n\u001b[0;32m     59\u001b[0m     \u001b[1;32melse\u001b[0m\u001b[1;33m:\u001b[0m\u001b[1;33m\u001b[0m\u001b[1;33m\u001b[0m\u001b[0m\n\u001b[0;32m     60\u001b[0m         \u001b[0mprint\u001b[0m\u001b[1;33m(\u001b[0m\u001b[1;34m\"username is wrong or does not exist\"\u001b[0m\u001b[1;33m)\u001b[0m\u001b[1;33m\u001b[0m\u001b[1;33m\u001b[0m\u001b[0m\n\u001b[1;32m---> 61\u001b[1;33m     \u001b[0mpwd\u001b[0m\u001b[1;33m=\u001b[0m\u001b[0mplist\u001b[0m\u001b[1;33m[\u001b[0m\u001b[0mind\u001b[0m\u001b[1;33m]\u001b[0m\u001b[1;33m\u001b[0m\u001b[1;33m\u001b[0m\u001b[0m\n\u001b[0m\u001b[0;32m     62\u001b[0m     \u001b[0mprint\u001b[0m\u001b[1;33m(\u001b[0m\u001b[1;34m\"your password is:\"\u001b[0m\u001b[1;33m,\u001b[0m\u001b[0mpwd\u001b[0m\u001b[1;33m)\u001b[0m\u001b[1;33m\u001b[0m\u001b[1;33m\u001b[0m\u001b[0m\n\u001b[0;32m     63\u001b[0m \u001b[1;33m\u001b[0m\u001b[0m\n",
      "\u001b[1;31mUnboundLocalError\u001b[0m: local variable 'ind' referenced before assignment"
     ]
    }
   ],
   "source": [
    "ulist = []\n",
    "nlist= []\n",
    "plist=[]\n",
    "elist=[]\n",
    "\n",
    "def register():\n",
    "    print(\"Enter username: \")\n",
    "    a=input()\n",
    "    b=a.isdigit()\n",
    "    \n",
    "    if a in ulist:\n",
    "        print(\"Username already exists, try again\")\n",
    "    elif b==True:\n",
    "        print(\"User name available\")\n",
    "    ulist.append(a)\n",
    "    ##Mobile Number\n",
    "    print(\"Enter Mobile Number: \")\n",
    "    n=input()\n",
    "    n1=n.isnumeric()\n",
    "    if n in nlist:\n",
    "        print(\"Enter Mobile Number already exists,try again\")\n",
    "    elif len(n)==10 and n1==True:\n",
    "        print(\"Mobile Number accepted\")\n",
    "    nlist.append(n)\n",
    "    ##Email\n",
    "    print(\"Enter email ID: \")\n",
    "    e=input()\n",
    "    if e in elist:\n",
    "        print(\"Email ID already exists, try again\")\n",
    "    email = e.strip().lower()\n",
    "    if not \"@\" in email:\n",
    "        print(\"Invalid email\")\n",
    "    elif not email[-4:] in \".com.org.edu.gov.net\":\n",
    "        print(\"Invalid email\")\n",
    "        return\n",
    "    elist.append(e)\n",
    "    print(\"Enter your password\")\n",
    "    p=input()\n",
    "    q=p.isalnum()\n",
    "    if len(p)<5 or len(p)>16:\n",
    "        print(\"Enter a password of length atleast 5 or maximum of 16\")\n",
    "    elif q==False:\n",
    "        print(\"Enter a password with atleast one special character and one number\")\n",
    "    else:\n",
    "        plist.append(p)\n",
    "\n",
    "\n",
    "def login():\n",
    "    username = input(\"Enter your username:\")\n",
    "    password = input(\"Enter your Password:\")\n",
    "    if username in ulist and password in plist:\n",
    "        print(\"welcome\")\n",
    "    else:\n",
    "        print(\"incorrect!\")\n",
    "def forgot():\n",
    "    uname=input(\"Enter your username\")\n",
    "    if uname in ulist:\n",
    "        ind=ulist.index(uname)\n",
    "    else:\n",
    "        print(\"username is wrong or does not exist\")\n",
    "    pwd=plist[ind]\n",
    "    print(\"your password is:\",pwd)\n",
    "\n",
    "while True:\n",
    "    account_ans = input(\"choose:  a)Sign Up     b)login     c) Forgot Password d) Quit\")\n",
    "    if account_ans == \"a\":\n",
    "        register()\n",
    "    if account_ans == \"b\":\n",
    "        login()\n",
    "    if account_ans ==\"c\":\n",
    "        forgot()\n",
    "    if account_ans == \"d\":\n",
    "        break"
   ]
  },
  {
   "cell_type": "code",
   "execution_count": null,
   "id": "7f2be668",
   "metadata": {},
   "outputs": [],
   "source": []
  }
 ],
 "metadata": {
  "kernelspec": {
   "display_name": "Python 3 (ipykernel)",
   "language": "python",
   "name": "python3"
  },
  "language_info": {
   "codemirror_mode": {
    "name": "ipython",
    "version": 3
   },
   "file_extension": ".py",
   "mimetype": "text/x-python",
   "name": "python",
   "nbconvert_exporter": "python",
   "pygments_lexer": "ipython3",
   "version": "3.9.7"
  }
 },
 "nbformat": 4,
 "nbformat_minor": 5
}
